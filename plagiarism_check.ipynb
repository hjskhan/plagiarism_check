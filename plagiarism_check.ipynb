{
 "cells": [
  {
   "cell_type": "code",
   "execution_count": 80,
   "metadata": {},
   "outputs": [],
   "source": [
    "from nltk.tokenize import word_tokenize\n",
    "from nltk.stem import WordNetLemmatizer\n",
    "from nltk.corpus import stopwords\n",
    "import re\n",
    "from sklearn.metrics.pairwise import cosine_similarity\n",
    "from sklearn.feature_extraction.text import CountVectorizer\n",
    "from sklearn.feature_extraction.text import TfidfVectorizer"
   ]
  },
  {
   "cell_type": "code",
   "execution_count": 81,
   "metadata": {},
   "outputs": [],
   "source": [
    "plagiarism1 = open('plagiarism1.txt', 'r').read()\n",
    "plagiarism2 = open('plagiarism2.txt', 'r').read()\n",
    "cat1 = open('cat1.txt', 'r').read()\n",
    "cat2 = open('cat2.txt', 'r').read()\n",
    "ML1 = open('ML1.txt', 'r').read()\n",
    "ML2 = open('ML2.txt', 'r').read()\n",
    "poem1 = open('poem1.txt', 'r').read()\n",
    "quantum_comp1 = open('quantum_comp1.txt', 'r').read()"
   ]
  },
  {
   "cell_type": "code",
   "execution_count": 82,
   "metadata": {},
   "outputs": [],
   "source": [
    "lemmatizer = WordNetLemmatizer()\n",
    "countvector = CountVectorizer(ngram_range=(3,3))\n",
    "tfidf = TfidfVectorizer(ngram_range=(3,3))"
   ]
  },
  {
   "cell_type": "code",
   "execution_count": 83,
   "metadata": {},
   "outputs": [],
   "source": [
    "\n",
    "\n",
    "def preprocess(user_text):\n",
    "    out= []\n",
    "    user_text = [user_text]\n",
    "    for i in user_text:\n",
    "        ind = ' '.join(re.findall(r'\\w+|\\d+',i))\n",
    "        ind = ind.lower()\n",
    "        ind = word_tokenize(ind)\n",
    "        ind = [lemmatizer.lemmatize(word) for word in ind if word not in stopwords.words('english')]\n",
    "        out.append(\" \".join(ind))\n",
    "    return out"
   ]
  },
  {
   "cell_type": "code",
   "execution_count": 88,
   "metadata": {},
   "outputs": [
    {
     "data": {
      "text/plain": [
       "array([[0.]])"
      ]
     },
     "execution_count": 88,
     "metadata": {},
     "output_type": "execute_result"
    }
   ],
   "source": [
    "a = tfidf.fit_transform(preprocess(plagiarism1))\n",
    "b = tfidf.transform(preprocess(ML2))\n",
    "cosine_similarity(a,b)"
   ]
  },
  {
   "cell_type": "code",
   "execution_count": 85,
   "metadata": {},
   "outputs": [
    {
     "data": {
      "text/plain": [
       "array([[0.]])"
      ]
     },
     "execution_count": 85,
     "metadata": {},
     "output_type": "execute_result"
    }
   ],
   "source": [
    "a = tfidf.fit_transform(preprocess(ML1))\n",
    "b = tfidf.transform(preprocess(quantum_comp1))\n",
    "cosine_similarity(a,b)"
   ]
  },
  {
   "cell_type": "code",
   "execution_count": 86,
   "metadata": {},
   "outputs": [],
   "source": [
    "def plagiarism_check(input_text1, input_text2):\n",
    "    a = countvector.fit_transform(preprocess(input_text1))\n",
    "    b = countvector.transform(preprocess(input_text2))\n",
    "    return cosine_similarity(a,b)"
   ]
  },
  {
   "cell_type": "code",
   "execution_count": 87,
   "metadata": {},
   "outputs": [
    {
     "data": {
      "text/plain": [
       "array([[0.64651648]])"
      ]
     },
     "execution_count": 87,
     "metadata": {},
     "output_type": "execute_result"
    }
   ],
   "source": [
    "plagiarism_check(ML2, ML1)"
   ]
  },
  {
   "cell_type": "code",
   "execution_count": null,
   "metadata": {},
   "outputs": [],
   "source": []
  }
 ],
 "metadata": {
  "kernelspec": {
   "display_name": "myvenv",
   "language": "python",
   "name": "python3"
  },
  "language_info": {
   "codemirror_mode": {
    "name": "ipython",
    "version": 3
   },
   "file_extension": ".py",
   "mimetype": "text/x-python",
   "name": "python",
   "nbconvert_exporter": "python",
   "pygments_lexer": "ipython3",
   "version": "3.11.4"
  },
  "orig_nbformat": 4
 },
 "nbformat": 4,
 "nbformat_minor": 2
}
